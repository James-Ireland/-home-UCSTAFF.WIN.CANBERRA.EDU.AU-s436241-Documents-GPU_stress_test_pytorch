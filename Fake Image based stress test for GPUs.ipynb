{
 "cells": [
  {
   "cell_type": "code",
   "execution_count": null,
   "metadata": {},
   "outputs": [],
   "source": [
    "import torchvision \n",
    "import torchvision.transforms as T \n",
    "import torch\n",
    "import torch.utils.data\n",
    "from PIL import Image\n",
    "import numpy as np \n",
    "from tqdm import tqdm"
   ]
  },
  {
   "cell_type": "code",
   "execution_count": null,
   "metadata": {},
   "outputs": [],
   "source": [
    "class Synthetic_Fake_Image_Stress_Test(torch.utils.data.Dataset):\n",
    "    def __init__(self, fake_ground_truth=np.zeros(1000), image_width=1080, image_height=1920, image_channels=3, numOfFakeImages=10000, transforms=T.ToTensor()): \n",
    "        self.dataset_length = numOfFakeImages\n",
    "        self.w = image_width\n",
    "        self.h = image_height\n",
    "        self.c = image_channels\n",
    "        self.fake_GT = fake_ground_truth\n",
    "        self.transforms = transforms\n",
    "        \n",
    "    def __len__(self):\n",
    "        return self.dataset_length\n",
    "\n",
    "    def __getitem__(self, index):\n",
    "        numpy_image = np.zeros([ self.w, self.h, self.c])\n",
    "        image = Image.fromarray(numpy_image.astype('uint8'), 'RGB')\n",
    "        if self.transforms:\n",
    "            image = self.transforms(image)\n",
    "        return image, self.fake_GT"
   ]
  },
  {
   "cell_type": "code",
   "execution_count": null,
   "metadata": {},
   "outputs": [],
   "source": [
    "model = torchvision.models.resnet50(pretrained=False)"
   ]
  },
  {
   "cell_type": "code",
   "execution_count": null,
   "metadata": {},
   "outputs": [],
   "source": [
    "batch_size = 1\n",
    "numOfIterations = 1\n",
    "device = torch.device(\"cuda:0\" if torch.cuda.is_available() else \"cpu\")"
   ]
  },
  {
   "cell_type": "code",
   "execution_count": null,
   "metadata": {},
   "outputs": [],
   "source": [
    "dataset = Synthetic_Fake_Image_Stress_Test()\n",
    "data_loader = torch.utils.data.DataLoader(dataset, batch_size=batch_size, shuffle=True, num_workers=1)"
   ]
  },
  {
   "cell_type": "markdown",
   "metadata": {},
   "source": [
    "## The following will loop to load /stress the GPU"
   ]
  },
  {
   "cell_type": "code",
   "execution_count": null,
   "metadata": {},
   "outputs": [],
   "source": [
    "model.to(device)   \n",
    "for i in tqdm(range(0, numOfIterations), position=0, leave=True):  \n",
    "    for images, GTs in tqdm(data_loader, position=0, leave=True):  \n",
    "        preds = model(images.to(device))  "
   ]
  }
 ],
 "metadata": {
  "kernelspec": {
   "display_name": "countbench",
   "language": "python",
   "name": "countbench"
  },
  "language_info": {
   "codemirror_mode": {
    "name": "ipython",
    "version": 3
   },
   "file_extension": ".py",
   "mimetype": "text/x-python",
   "name": "python",
   "nbconvert_exporter": "python",
   "pygments_lexer": "ipython3",
   "version": "3.6.11"
  }
 },
 "nbformat": 4,
 "nbformat_minor": 4
}
